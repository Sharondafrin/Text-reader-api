{
 "cells": [
  {
   "cell_type": "code",
   "execution_count": 1,
   "id": "6aadf649",
   "metadata": {},
   "outputs": [],
   "source": [
    "import os\n",
    "os.chdir(r'D:\\Work\\text_reader\\text-reader')"
   ]
  },
  {
   "cell_type": "code",
   "execution_count": null,
   "id": "2e237284",
   "metadata": {},
   "outputs": [],
   "source": []
  },
  {
   "cell_type": "code",
   "execution_count": 38,
   "id": "fc396262",
   "metadata": {},
   "outputs": [],
   "source": [
    "import re\n",
    "# import datetime\n",
    "import logging\n",
    "import numpy as np"
   ]
  },
  {
   "cell_type": "code",
   "execution_count": 39,
   "id": "5ca933de",
   "metadata": {},
   "outputs": [],
   "source": [
    "from datetime import datetime\n"
   ]
  },
  {
   "cell_type": "code",
   "execution_count": null,
   "id": "871003db",
   "metadata": {},
   "outputs": [],
   "source": []
  },
  {
   "cell_type": "code",
   "execution_count": 26,
   "id": "8b9fab04",
   "metadata": {},
   "outputs": [],
   "source": [
    "import logging\n",
    "from dateutil.parser import parse\n",
    "from scripts.date_utils import extract_date"
   ]
  },
  {
   "cell_type": "code",
   "execution_count": null,
   "id": "6a9fc060",
   "metadata": {},
   "outputs": [],
   "source": []
  },
  {
   "cell_type": "code",
   "execution_count": 46,
   "id": "2d581b01",
   "metadata": {},
   "outputs": [],
   "source": [
    "date = '03/04/23'"
   ]
  },
  {
   "cell_type": "code",
   "execution_count": null,
   "id": "b1ecd06a",
   "metadata": {},
   "outputs": [],
   "source": []
  },
  {
   "cell_type": "code",
   "execution_count": null,
   "id": "b6c71799",
   "metadata": {},
   "outputs": [],
   "source": []
  },
  {
   "cell_type": "code",
   "execution_count": null,
   "id": "9854a2eb",
   "metadata": {},
   "outputs": [],
   "source": []
  },
  {
   "cell_type": "code",
   "execution_count": 47,
   "id": "615c2546",
   "metadata": {},
   "outputs": [],
   "source": [
    "parsed_date = parse(date)"
   ]
  },
  {
   "cell_type": "code",
   "execution_count": 48,
   "id": "c0e052cf",
   "metadata": {},
   "outputs": [
    {
     "data": {
      "text/plain": [
       "'2023-03-04'"
      ]
     },
     "execution_count": 48,
     "metadata": {},
     "output_type": "execute_result"
    }
   ],
   "source": [
    "parsed_date.strftime(\"%Y-%m-%d\")"
   ]
  },
  {
   "cell_type": "code",
   "execution_count": null,
   "id": "7a75f345",
   "metadata": {},
   "outputs": [],
   "source": []
  },
  {
   "cell_type": "code",
   "execution_count": 49,
   "id": "031866c5",
   "metadata": {},
   "outputs": [],
   "source": [
    "date_format = get_date_format([date])"
   ]
  },
  {
   "cell_type": "code",
   "execution_count": 50,
   "id": "02f47527",
   "metadata": {},
   "outputs": [
    {
     "data": {
      "text/plain": [
       "'%d/%m/%y'"
      ]
     },
     "execution_count": 50,
     "metadata": {},
     "output_type": "execute_result"
    }
   ],
   "source": [
    "date_format"
   ]
  },
  {
   "cell_type": "code",
   "execution_count": 51,
   "id": "bd2fec1d",
   "metadata": {},
   "outputs": [],
   "source": [
    "split_format = date_format.split('/')\n",
    "year_index = split_format.index('%Y') if '%Y' in split_format else split_format.index('%y')\n",
    "# "
   ]
  },
  {
   "cell_type": "code",
   "execution_count": 52,
   "id": "9317cd47",
   "metadata": {},
   "outputs": [
    {
     "data": {
      "text/plain": [
       "2"
      ]
     },
     "execution_count": 52,
     "metadata": {},
     "output_type": "execute_result"
    }
   ],
   "source": [
    "year_index"
   ]
  },
  {
   "cell_type": "code",
   "execution_count": 56,
   "id": "47d21e1e",
   "metadata": {},
   "outputs": [],
   "source": [
    "valid_year = date.split('/')[year_index]"
   ]
  },
  {
   "cell_type": "code",
   "execution_count": 58,
   "id": "09f98214",
   "metadata": {},
   "outputs": [
    {
     "data": {
      "text/plain": [
       "datetime.date(2023, 4, 3)"
      ]
     },
     "execution_count": 58,
     "metadata": {},
     "output_type": "execute_result"
    }
   ],
   "source": [
    "date_dt = str2datetime(date, date_format, valid_year, year_index)\n",
    "date_dt"
   ]
  },
  {
   "cell_type": "code",
   "execution_count": 60,
   "id": "63799ea8",
   "metadata": {},
   "outputs": [
    {
     "data": {
      "text/plain": [
       "'2023-04-03'"
      ]
     },
     "execution_count": 60,
     "metadata": {},
     "output_type": "execute_result"
    }
   ],
   "source": [
    "str(datetime2str(date_dt))"
   ]
  },
  {
   "cell_type": "code",
   "execution_count": null,
   "id": "25f22739",
   "metadata": {},
   "outputs": [],
   "source": []
  },
  {
   "cell_type": "code",
   "execution_count": null,
   "id": "92a92fa4",
   "metadata": {},
   "outputs": [],
   "source": []
  },
  {
   "cell_type": "code",
   "execution_count": 59,
   "id": "32247c8e",
   "metadata": {},
   "outputs": [],
   "source": [
    "def datetime2str(date):\n",
    "\n",
    "    try:\n",
    "        day = str(date.day).zfill(2)\n",
    "        month = str(date.month).zfill(2)\n",
    "        return '{}-{}-{}'.format(date.year, month, day)\n",
    "    except Exception as err:\n",
    "        logging.error('datetime to string failed: {}'.format(err))\n",
    "\n",
    "    return ''"
   ]
  },
  {
   "cell_type": "code",
   "execution_count": 54,
   "id": "00570910",
   "metadata": {},
   "outputs": [],
   "source": [
    "def str2datetime(date, date_format='%d/%m/%Y', valid_year=None, year_index=None):\n",
    "    try:\n",
    "        if valid_year and year_index:\n",
    "            current_year = datetime.now().year\n",
    "            year = date.split('/')[year_index]\n",
    "            date = date.replace(year, valid_year) \\\n",
    "                if len(year) not in (2, 4) and current_year-10 > int(year) > current_year+1 \\\n",
    "                else date\n",
    "\n",
    "        return datetime.strptime(date, date_format).date()\n",
    "\n",
    "    except Exception as err:\n",
    "        logging.error('Failed! String to datetime: %s' % err)\n",
    "        return None"
   ]
  },
  {
   "cell_type": "code",
   "execution_count": 36,
   "id": "63de1ec2",
   "metadata": {},
   "outputs": [],
   "source": [
    "def get_date_format(dates):\n",
    "\n",
    "    current_year = int(datetime.now().year)\n",
    "\n",
    "    year_indices = [index for date in dates for index, value in enumerate(date.split('/')) if len(value) == 4\n",
    "                    and current_year-10 <= int(value) <= current_year+2]\n",
    "    date_format = '%d/%m/%Y' if any(year_indices) else '%d/%m/%y'\n",
    "\n",
    "    year_index = max(np.unique(year_indices), key=year_indices.count) if year_indices else 2\n",
    "\n",
    "    try:\n",
    "        if year_index == 0:\n",
    "            for date in dates:\n",
    "                year, month, day = date.split('/')\n",
    "                if 0 < int(month) <= 12 and 0 < int(day) <= 31:\n",
    "                    date_format = '%Y/%m/%d'\n",
    "                    break\n",
    "\n",
    "        elif year_index == 2:\n",
    "            for date in dates:\n",
    "                day, month, year = date.split('/')\n",
    "                # print('day: {}, month: {}, year:{}'.format(day, month, year))\n",
    "                if int(month) > 12 >= int(day) >= 1:\n",
    "                    date_format = '%m/%d/%Y' if len(year) == 4 else '%m/%d/%y'\n",
    "                    break\n",
    "\n",
    "    except Exception as error:\n",
    "        logging.error(error)\n",
    "\n",
    "    return date_format"
   ]
  },
  {
   "cell_type": "code",
   "execution_count": 40,
   "id": "38c9f754",
   "metadata": {},
   "outputs": [],
   "source": [
    "\n",
    "'''Languages include\n",
    "English, French, German, Dutch, Danish, Hungarian, Norwegian, Polish, Swedish'''\n",
    "\n",
    "months_name2int = {\n",
    "    1: (\"january\", \"janvier\", \"januar\", \"januari\", \"januar\", \"január\", \"januar\", \"styczeń\", \"januari\"),\n",
    "    2: (\"february\", \"février\", \"februar\", \"februari\", \"februar\", \"február\", \"februar\", \"luty\", \"februari\"),\n",
    "    3: (\"march\", \"mars\", \"märz\", \"maart\", \"marts\", \"március\", \"mars\", \"marzec\", \"mars\"),\n",
    "    4: (\"april\", \"avril\", \"april\", \"april\", \"april\", \"április\", \"april\", \"kwiecień\", \"april\"),\n",
    "    5: (\"may\", \"mai\", \"mai\", \"mei\", \"maj\", \"május\", \"mai\", \"maj\", \"maj\"),\n",
    "    6: (\"june\", \"juin\", \"juni\", \"juni\", \"juni\", \"június\", \"juni\", \"czerwiec\", \"juni\"),\n",
    "    7: (\"july\", \"juillet\", \"juli\", \"juli\", \"juli\", \"július\", \"juli\", \"lipiec\", \"juli\"),\n",
    "    8: (\"august\", \"août\", \"august\", \"augustus\", \"august\", \"augusztus\", \"august\", \"sierpień\", \"augusti\"),\n",
    "    9: (\"september\", \"septembre\", \"september\", \"september\", \"september\", \"szeptember\", \"september\", \"wrzesień\",\n",
    "        \"september\"),\n",
    "    10: (\"october\", \"octobre\", \"oktober\", \"oktober\", \"oktober\", \"október\", \"oktober\", \"październik\", \"oktober\"),\n",
    "    11: (\"november\", \"novembre\", \"november\", \"november\", \"november\", \"november\", \"november\", \"listopad\", \"november\"),\n",
    "    12: (\"december\", \"décembre\", \"dezember\", \"december\", \"december\", \"december\", \"desember\", \"grudzień\", \"december\")\n",
    "}\n",
    "\n",
    "\n",
    "def get_date_format(dates):\n",
    "\n",
    "    current_year = int(datetime.now().year)\n",
    "\n",
    "    year_indices = [index for date in dates for index, value in enumerate(date.split('/')) if len(value) == 4\n",
    "                    and current_year-10 <= int(value) <= current_year+2]\n",
    "    date_format = '%d/%m/%Y' if any(year_indices) else '%d/%m/%y'\n",
    "\n",
    "    year_index = max(np.unique(year_indices), key=year_indices.count) if year_indices else 2\n",
    "\n",
    "    try:\n",
    "        if year_index == 0:\n",
    "            for date in dates:\n",
    "                year, month, day = date.split('/')\n",
    "                if 0 < int(month) <= 12 and 0 < int(day) <= 31:\n",
    "                    date_format = '%Y/%m/%d'\n",
    "                    break\n",
    "\n",
    "        elif year_index == 2:\n",
    "            for date in dates:\n",
    "                day, month, year = date.split('/')\n",
    "                # print('day: {}, month: {}, year:{}'.format(day, month, year))\n",
    "                if int(month) > 12 >= int(day) >= 1:\n",
    "                    date_format = '%m/%d/%Y' if len(year) == 4 else '%m/%d/%y'\n",
    "                    break\n",
    "\n",
    "    except Exception as error:\n",
    "        logging.error(error)\n",
    "\n",
    "    return date_format\n",
    "\n",
    "\n",
    "def extract_date(text_segment):\n",
    "    date = []\n",
    "\n",
    "    try:\n",
    "        extracted_month = find_month(text_segment)\n",
    "        if extracted_month:\n",
    "            extracted_numbers = re.findall(r'\\d+', text_segment)\n",
    "            day = extracted_numbers[0]\n",
    "            month = extracted_month[0]\n",
    "            year = extracted_numbers[1] if 2 <= len(extracted_numbers) <= 4 \\\n",
    "                else datetime.now().year\n",
    "\n",
    "            if len(day) == 4:\n",
    "                day, year = year, day\n",
    "            formatted_date = f'{day}/{month}/{year}'\n",
    "            date.append(formatted_date)\n",
    "    except Exception as error:\n",
    "        logging.error('Extraction failed for %s: %s' % (text_segment, str(error)))\n",
    "\n",
    "    return date\n",
    "\n",
    "\n",
    "def find_month(text_segment):\n",
    "    month_segment = ''.join(re.findall(r'[a-zA-Z]', text_segment)).lower()\n",
    "    month_int = [key for key, months in months_name2int.items()\n",
    "                 if month_segment and any(month_segment in month for month in months)]\n",
    "\n",
    "    return month_int"
   ]
  },
  {
   "cell_type": "code",
   "execution_count": null,
   "id": "399233da",
   "metadata": {},
   "outputs": [],
   "source": []
  }
 ],
 "metadata": {
  "kernelspec": {
   "display_name": "Python 3 (ipykernel)",
   "language": "python",
   "name": "python3"
  },
  "language_info": {
   "codemirror_mode": {
    "name": "ipython",
    "version": 3
   },
   "file_extension": ".py",
   "mimetype": "text/x-python",
   "name": "python",
   "nbconvert_exporter": "python",
   "pygments_lexer": "ipython3",
   "version": "3.8.15"
  }
 },
 "nbformat": 4,
 "nbformat_minor": 5
}
