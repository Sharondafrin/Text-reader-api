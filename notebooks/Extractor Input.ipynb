{
 "cells": [
  {
   "cell_type": "code",
   "execution_count": 1,
   "id": "e11fad26",
   "metadata": {},
   "outputs": [],
   "source": [
    "import pytesseract\n",
    "pytesseract.pytesseract.tesseract_cmd = r\"C:\\Program Files\\Tesseract-OCR\\tesseract.exe\""
   ]
  },
  {
   "cell_type": "code",
   "execution_count": 2,
   "id": "bab77e5a",
   "metadata": {},
   "outputs": [],
   "source": [
    "import base64\n",
    "import cv2\n",
    "import json\n",
    "from glob import glob\n",
    "import pandas as pd\n",
    "import numpy as np\n",
    "from itertools import product\n",
    "import requests\n",
    "from pytesseract import image_to_string\n",
    "import os\n",
    "import time\n",
    "import json\n",
    "\n",
    "pd.set_option('display.max_rows', 500)"
   ]
  },
  {
   "cell_type": "code",
   "execution_count": 3,
   "id": "de0954e3",
   "metadata": {},
   "outputs": [],
   "source": [
    "import base64\n",
    "import numpy as np\n",
    "from io import BytesIO\n",
    "from PIL import Image"
   ]
  },
  {
   "cell_type": "code",
   "execution_count": null,
   "id": "d4acc21b",
   "metadata": {},
   "outputs": [],
   "source": []
  },
  {
   "cell_type": "code",
   "execution_count": 86,
   "id": "9a72dcf9",
   "metadata": {},
   "outputs": [],
   "source": [
    "image_path = r\"D:\\OCR_TESTING\\Mycruise\\Costa_New\\Costa_New-0.jpg\""
   ]
  },
  {
   "cell_type": "code",
   "execution_count": 87,
   "id": "1f8746c0",
   "metadata": {},
   "outputs": [],
   "source": [
    "encoded_image = base64.b64encode(open(image_path, 'rb').read()).decode('utf-8')"
   ]
  },
  {
   "cell_type": "code",
   "execution_count": null,
   "id": "7af8ac50",
   "metadata": {},
   "outputs": [],
   "source": []
  },
  {
   "cell_type": "code",
   "execution_count": 96,
   "id": "d8c798f7",
   "metadata": {},
   "outputs": [],
   "source": [
    "bounding_boxes = [('value', 0.652661, 0.504553, 0.069468, 0.013064),\n",
    "('label-text', 0.064706, 0.123120, 0.080112, 0.018211)]"
   ]
  },
  {
   "cell_type": "code",
   "execution_count": 97,
   "id": "ac20bf90",
   "metadata": {},
   "outputs": [],
   "source": [
    "bounding_boxes = [[item[0], item[1]-item[3]/2, item[2]-item[4]/2, \\\n",
    "                item[1]+item[3]/2, item[2]+item[4]/2] for item in bounding_boxes]"
   ]
  },
  {
   "cell_type": "code",
   "execution_count": 98,
   "id": "257a9b1d",
   "metadata": {},
   "outputs": [
    {
     "data": {
      "text/plain": [
       "[['value', 0.617927, 0.49802100000000005, 0.6873950000000001, 0.511085],\n",
       " ['label-text', 0.02465, 0.11401449999999999, 0.104762, 0.1322255]]"
      ]
     },
     "execution_count": 98,
     "metadata": {},
     "output_type": "execute_result"
    }
   ],
   "source": [
    "bounding_boxes"
   ]
  },
  {
   "cell_type": "code",
   "execution_count": 99,
   "id": "b187545c",
   "metadata": {},
   "outputs": [],
   "source": [
    "payload = {\n",
    "    'image': encoded_image,\n",
    "    'bbox': bounding_boxes,\n",
    "    'class': 'grossAmount',\n",
    "    'language': 'eng'\n",
    "    \n",
    "}"
   ]
  },
  {
   "cell_type": "code",
   "execution_count": 100,
   "id": "28a961cb",
   "metadata": {},
   "outputs": [],
   "source": [
    "payload = json.dumps(payload)"
   ]
  },
  {
   "cell_type": "code",
   "execution_count": 111,
   "id": "d99ed609",
   "metadata": {},
   "outputs": [],
   "source": [
    "headers = {'Content-Type': 'application/json'}"
   ]
  },
  {
   "cell_type": "code",
   "execution_count": 112,
   "id": "0651e472",
   "metadata": {},
   "outputs": [],
   "source": [
    "url = 'http://127.0.0.1:3034/transcript'\n",
    "response = requests.post(url, data=payload, headers=headers)"
   ]
  },
  {
   "cell_type": "code",
   "execution_count": null,
   "id": "8ee3f940",
   "metadata": {},
   "outputs": [],
   "source": []
  },
  {
   "cell_type": "code",
   "execution_count": 113,
   "id": "34c11ffb",
   "metadata": {},
   "outputs": [
    {
     "data": {
      "text/plain": [
       "b'{\\n  \"label-text\": \"Issuing date:\",\\n  \"value\": 1738.0\\n}\\n'"
      ]
     },
     "execution_count": 113,
     "metadata": {},
     "output_type": "execute_result"
    }
   ],
   "source": [
    "response.content"
   ]
  },
  {
   "cell_type": "code",
   "execution_count": null,
   "id": "8826107b",
   "metadata": {},
   "outputs": [],
   "source": []
  },
  {
   "cell_type": "code",
   "execution_count": null,
   "id": "01abd2e6",
   "metadata": {},
   "outputs": [],
   "source": []
  },
  {
   "cell_type": "code",
   "execution_count": null,
   "id": "3179085b",
   "metadata": {},
   "outputs": [],
   "source": []
  }
 ],
 "metadata": {
  "kernelspec": {
   "display_name": "Python 3 (ipykernel)",
   "language": "python",
   "name": "python3"
  },
  "language_info": {
   "codemirror_mode": {
    "name": "ipython",
    "version": 3
   },
   "file_extension": ".py",
   "mimetype": "text/x-python",
   "name": "python",
   "nbconvert_exporter": "python",
   "pygments_lexer": "ipython3",
   "version": "3.8.15"
  }
 },
 "nbformat": 4,
 "nbformat_minor": 5
}
